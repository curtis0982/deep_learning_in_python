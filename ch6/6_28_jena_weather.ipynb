{
 "cells": [
  {
   "cell_type": "code",
   "execution_count": 1,
   "metadata": {},
   "outputs": [
    {
     "name": "stdout",
     "output_type": "stream",
     "text": [
      "['\"Date Time\"', '\"p (mbar)\"', '\"T (degC)\"', '\"Tpot (K)\"', '\"Tdew (degC)\"', '\"rh (%)\"', '\"VPmax (mbar)\"', '\"VPact (mbar)\"', '\"VPdef (mbar)\"', '\"sh (g/kg)\"', '\"H2OC (mmol/mol)\"', '\"rho (g/m**3)\"', '\"wv (m/s)\"', '\"max. wv (m/s)\"', '\"wd (deg)\"']\n",
      "420551\n"
     ]
    }
   ],
   "source": [
    "import os\n",
    "data_dir = 'data/jena_climate_2009_2016.csv'\n",
    "fname = os.path.join(data_dir, 'jena_climate_2009_2016.csv')\n",
    "f = open(fname)\n",
    "data = f.read()\n",
    "f.close()\n",
    "lines = data.split('\\n')\n",
    "header = lines[0].split(',')\n",
    "lines = lines[1:]\n",
    "print(header)\n",
    "print(len(lines))"
   ]
  },
  {
   "cell_type": "code",
   "execution_count": 2,
   "metadata": {},
   "outputs": [],
   "source": [
    "import numpy as np\n",
    "float_data = np.zeros((len(lines), len(header) - 1))\n",
    "for i, line in enumerate(lines):\n",
    "    values = [float(x) for x in line.split(',')[1:]]\n",
    "    float_data[i, :] = values"
   ]
  },
  {
   "cell_type": "code",
   "execution_count": 3,
   "metadata": {},
   "outputs": [
    {
     "data": {
      "text/plain": [
       "<matplotlib.figure.Figure at 0x2e6b1866518>"
      ]
     },
     "metadata": {},
     "output_type": "display_data"
    }
   ],
   "source": [
    "from matplotlib import pyplot as plt\n",
    "temp = float_data[:, 1] \n",
    "#<1> temperature (in degrees Celsius)\n",
    "plt.plot(range(len(temp)), temp)\n",
    "plt.show()"
   ]
  },
  {
   "cell_type": "code",
   "execution_count": 4,
   "metadata": {},
   "outputs": [
    {
     "data": {
      "image/png": "[encoded data removed]",
      "text/plain": [
       "<matplotlib.figure.Figure at 0x2e6b28e4c18>"
      ]
     },
     "metadata": {},
     "output_type": "display_data"
    }
   ],
   "source": [
    "plt.plot(range(1440), temp[:1440])\n",
    "plt.show()"
   ]
  },
  {
   "cell_type": "code",
   "execution_count": 5,
   "metadata": {},
   "outputs": [
    {
     "data": {
      "text/plain": [
       "array([ 9.96520e+02, -8.02000e+00,  2.65400e+02, -8.90000e+00,\n",
       "        9.33000e+01,  3.33000e+00,  3.11000e+00,  2.20000e-01,\n",
       "        1.94000e+00,  3.12000e+00,  1.30775e+03,  1.03000e+00,\n",
       "        1.75000e+00,  1.52300e+02])"
      ]
     },
     "execution_count": 5,
     "metadata": {},
     "output_type": "execute_result"
    }
   ],
   "source": [
    "float_data[0]"
   ]
  },
  {
   "cell_type": "code",
   "execution_count": 6,
   "metadata": {},
   "outputs": [],
   "source": [
    "mean = float_data[:200000].mean(axis=0)\n",
    "float_data -= mean\n",
    "std = float_data[:200000].std(axis=0)\n",
    "float_data /= std"
   ]
  },
  {
   "cell_type": "code",
   "execution_count": 7,
   "metadata": {},
   "outputs": [
    {
     "data": {
      "text/plain": [
       "array([[ 0.90014748, -1.93135845, -1.98211036, ..., -0.72950452,\n",
       "        -0.78067973, -0.27613603],\n",
       "       [ 0.9060434 , -1.97541381, -2.02567   , ..., -0.93124017,\n",
       "        -0.88794488, -0.46317443],\n",
       "       [ 0.90132666, -1.98671006, -2.03683914, ..., -1.27614304,\n",
       "        -1.26122763, -0.05330633],\n",
       "       ...,\n",
       "       [ 1.28927851, -1.38236094, -1.46721307, ..., -0.69696652,\n",
       "        -0.67341457,  0.45008097],\n",
       "       [ 1.28809932, -1.50323076, -1.58672285, ..., -0.43015486,\n",
       "        -0.60476487,  0.57246412],\n",
       "       [ 1.28927851, -1.56987861, -1.65150386, ..., -0.5993525 ,\n",
       "        -0.690577  ,  0.10024989]])"
      ]
     },
     "execution_count": 7,
     "metadata": {},
     "output_type": "execute_result"
    }
   ],
   "source": [
    "float_data"
   ]
  },
  {
   "cell_type": "code",
   "execution_count": 8,
   "metadata": {},
   "outputs": [],
   "source": [
    "def generator(data, lookback, delay, min_index, max_index,\n",
    "              shuffle=False, batch_size=128, step=6):\n",
    "    if max_index is None:\n",
    "        max_index = len(data) - delay - 1\n",
    "    i = min_index + lookback\n",
    "    while 1:\n",
    "        if shuffle:\n",
    "            rows = np.random.randint(\n",
    "                min_index + lookback, max_index, size=batch_size)\n",
    "            #生成闭区间[low,high]上离散均匀分布的整数值 (min_index + lookback和max_index間，\n",
    "            \"\"\"size:Output shape. If the given shape is, e.g., (m, n, k),\n",
    "            then m * n * k samples are drawn. Default is None,\n",
    "            in which case a single value is returned.\"\"\"\n",
    "        else:\n",
    "            if i + batch_size >= max_index:\n",
    "                i = min_index + lookback\n",
    "            rows = np.arange(i, min(i + batch_size, max_index))\n",
    "            \"\"\"\n",
    "            arange([start,] stop[, step,], dtype=None)\n",
    "            根据start与stop指定的范围以及step设定的步长，生成一个 ndarray。\n",
    "              >>> np.arange(3)\n",
    "                array([0, 1, 2])\n",
    "                >>> np.arange(3.0)\n",
    "                array([ 0.,  1.,  2.])\n",
    "                >>> np.arange(3,7)\n",
    "                array([3, 4, 5, 6])\n",
    "                >>> np.arange(3,7,2)\n",
    "                array([3, 5])\n",
    "            \"\"\"\n",
    "            \n",
    "            i += len(rows)\n",
    "                \n",
    "        samples = np.zeros((len(rows),lookback // step,data.shape[-1]))\n",
    "        targets = np.zeros((len(rows),))\n",
    "        for j, row in enumerate(rows):\n",
    "            indices = range(rows[j] - lookback, rows[j], step)\n",
    "            samples[j] = data[indices]\n",
    "            targets[j] = data[rows[j] + delay][1]\n",
    "        yield samples, targets"
   ]
  },
  {
   "cell_type": "code",
   "execution_count": 9,
   "metadata": {},
   "outputs": [],
   "source": [
    "def formulate(data, lookback, delay, min_index, max_index,\n",
    "              shuffle=False, batch_size=128, step=6):\n",
    "    if max_index is None:\n",
    "        max_index = len(data) - delay - 1\n",
    "    i = min_index + lookback\n",
    "    while 1:\n",
    "        if shuffle:\n",
    "            rows = np.random.randint(\n",
    "                min_index + lookback, max_index, size=batch_size)\n",
    "            #生成闭区间[low,high]上离散均匀分布的整数值 (min_index + lookback和max_index間，\n",
    "            \"\"\"size:Output shape. If the given shape is, e.g., (m, n, k),\n",
    "            then m * n * k samples are drawn. Default is None,\n",
    "            in which case a single value is returned.\"\"\"\n",
    "        else:\n",
    "            if i + batch_size >= max_index:\n",
    "                i = min_index + lookback\n",
    "            rows = np.arange(i, min(i + batch_size, max_index))\n",
    "            \"\"\"\n",
    "            arange([start,] stop[, step,], dtype=None)\n",
    "            根据start与stop指定的范围以及step设定的步长，生成一个 ndarray。\n",
    "              >>> np.arange(3)\n",
    "                array([0, 1, 2])\n",
    "                >>> np.arange(3.0)\n",
    "                array([ 0.,  1.,  2.])\n",
    "                >>> np.arange(3,7)\n",
    "                array([3, 4, 5, 6])\n",
    "                >>> np.arange(3,7,2)\n",
    "                array([3, 5])\n",
    "            \"\"\"\n",
    "            \n",
    "            i += len(rows)\n",
    "                \n",
    "        samples = np.zeros((len(rows),lookback // step,data.shape[-1]))\n",
    "        targets = np.zeros((len(rows),))\n",
    "        for j, row in enumerate(rows):\n",
    "            indices = range(rows[j] - lookback, rows[j], step)\n",
    "            samples[j] = data[indices]\n",
    "            targets[j] = data[rows[j] + delay][1]\n",
    "        return samples, targets"
   ]
  },
  {
   "cell_type": "code",
   "execution_count": 10,
   "metadata": {},
   "outputs": [
    {
     "name": "stdout",
     "output_type": "stream",
     "text": [
      "(420551, 14)\n",
      "14\n"
     ]
    }
   ],
   "source": [
    "print(float_data.shape)\n",
    "print(float_data.shape[-1])\n"
   ]
  },
  {
   "cell_type": "code",
   "execution_count": 11,
   "metadata": {},
   "outputs": [],
   "source": [
    "lookback = 1440\n",
    "step = 6\n",
    "delay = 144\n",
    "batch_size = 128"
   ]
  },
  {
   "cell_type": "code",
   "execution_count": 12,
   "metadata": {},
   "outputs": [],
   "source": [
    "test_1 = formulate(float_data,\n",
    "                    lookback=lookback,\n",
    "                    delay=delay,\n",
    "                    min_index=0,\n",
    "                    max_index=200000,\n",
    "                    shuffle=True,\n",
    "                    step=step,\n",
    "                    batch_size=batch_size)"
   ]
  },
  {
   "cell_type": "code",
   "execution_count": 13,
   "metadata": {},
   "outputs": [
    {
     "data": {
      "text/plain": [
       "(array([[[ 2.26682283e+00,  2.85400820e-02, -1.45903961e-01, ...,\n",
       "           1.19023789e+00,  1.16296489e+00,  4.65090223e-01],\n",
       "         [ 2.24441832e+00, -2.00337722e-02, -1.92814343e-01, ...,\n",
       "           5.00432140e-01,  3.90655771e-01,  5.30900031e-01],\n",
       "         [ 2.22790973e+00, -1.37514722e-01, -3.06739558e-01, ...,\n",
       "          -1.95881210e-01, -4.67465474e-01,  4.54699201e-01],\n",
       "         ...,\n",
       "         [ 1.50742772e+00, -7.65149980e-02, -1.91697430e-01, ...,\n",
       "          -1.30805196e-01,  4.67886683e-01,  1.59771165e+00],\n",
       "         [ 1.51804039e+00,  3.68834266e-03, -1.13513459e-01, ...,\n",
       "          -1.69850804e-01,  6.45696978e-02,  8.72649207e-01],\n",
       "         [ 1.49209832e+00,  1.09873047e-01, -6.28972733e-03, ...,\n",
       "          -6.38398105e-01, -2.61516375e-01,  1.64043030e+00]],\n",
       " \n",
       "        [[ 3.90739577e-01,  6.55481689e-01,  6.19182039e-01, ...,\n",
       "          -4.30154860e-01,  2.19031522e-01, -1.78895341e+00],\n",
       "         [ 4.09606536e-01,  6.50963191e-01,  6.12480556e-01, ...,\n",
       "          -7.87443847e-02,  6.45696978e-02, -1.74415656e+00],\n",
       "         [ 4.22577571e-01,  6.67907559e-01,  6.28117350e-01, ...,\n",
       "           7.15182986e-01,  6.65254569e-01, -1.76540043e+00],\n",
       "         ...,\n",
       "         [ 1.72590362e-01,  2.06299384e+00,  2.03096117e+00, ...,\n",
       "          -2.21911616e-01, -2.12424267e-02,  1.28829010e+00],\n",
       "         [ 1.30139703e-01,  2.10366032e+00,  2.07563772e+00, ...,\n",
       "           3.18848390e-02, -2.12424267e-02,  1.85171441e+00],\n",
       "         [ 1.15989484e-01,  2.10704919e+00,  2.08010538e+00, ...,\n",
       "           5.14076432e-02,  2.53356372e-01,  1.84363251e+00]],\n",
       " \n",
       "        [[-1.61151647e+00, -7.99474689e-01, -6.70853479e-01, ...,\n",
       "           4.02818119e-01,  9.26981549e-01,  3.18461354e-01],\n",
       "         [-1.65042957e+00, -7.49771210e-01, -6.18358528e-01, ...,\n",
       "           2.42017455e+00,  2.16267614e+00,  3.24234144e-01],\n",
       "         [-1.63745854e+00, -7.63326704e-01, -6.32878408e-01, ...,\n",
       "           4.87416937e-01,  6.18057901e-01,  5.40136495e-01],\n",
       "         ...,\n",
       "         [-1.20233929e+00, -2.25669032e+00, -2.15188127e+00, ...,\n",
       "          -6.57920909e-01, -5.53277599e-01, -3.66191557e-01],\n",
       "         [-1.15753026e+00, -2.25669032e+00, -2.15523201e+00, ...,\n",
       "          -4.82215672e-01, -5.87602448e-01,  2.03005551e-01],\n",
       "         [-1.11625879e+00, -2.19456097e+00, -2.09603558e+00, ...,\n",
       "          -3.78094049e-01, -6.21927298e-01,  1.99541877e-01]],\n",
       " \n",
       "        ...,\n",
       " \n",
       "        [[ 1.50185847e-01, -2.10940316e-01, -2.21854104e-01, ...,\n",
       "          -3.97616853e-01, -4.67465474e-01, -1.97626085e-01],\n",
       "         [ 2.00890800e-01, -2.15458814e-01, -2.29672501e-01, ...,\n",
       "          -5.79829693e-01, -5.01790324e-01, -4.57401641e-01],\n",
       "         [ 2.37445534e-01, -1.56718339e-01, -1.73826808e-01, ...,\n",
       "          -4.43170063e-01, -5.36115174e-01,  1.71217082e-02],\n",
       "         ...,\n",
       "         [-1.81079872e+00, -8.44223697e-02,  5.73743632e-02, ...,\n",
       "          -9.50762972e-01, -1.02524428e+00,  1.13819755e+00],\n",
       "         [-1.83556161e+00, -5.73113813e-02,  8.64141238e-02, ...,\n",
       "          -7.36012126e-01, -7.24901848e-01,  4.81254035e-01],\n",
       "         [-1.89687922e+00, -4.94040096e-02,  9.87001764e-02, ...,\n",
       "          -1.20455943e+00, -1.26551823e+00, -5.34757029e-01]],\n",
       " \n",
       "        [[-4.60631956e-01, -3.48754507e-01, -3.11207214e-01, ...,\n",
       "          -1.18503662e+00, -1.20544974e+00, -9.85034660e-01],\n",
       "         [-4.21718853e-01, -2.94532530e-01, -2.60946089e-01, ...,\n",
       "          -5.14753679e-01, -7.07739423e-01, -3.39636722e-01],\n",
       "         [-4.60631956e-01, -2.33532806e-01, -1.96165085e-01, ...,\n",
       "          -7.16489322e-01, -6.04764873e-01, -1.16514571e+00],\n",
       "         ...,\n",
       "         [-1.05258280e+00,  5.84315344e-01,  6.62741680e-01, ...,\n",
       "           5.32970147e-01,  3.64912133e-01,  8.72649207e-01],\n",
       "         [-1.01131133e+00,  5.59463605e-01,  6.34818833e-01, ...,\n",
       "           3.44249706e-01,  2.01869097e-01,  7.71048100e-01],\n",
       "         [-9.57068820e-01,  5.56074731e-01,  6.27000436e-01, ...,\n",
       "           7.73751399e-01,  4.97920926e-01,  7.99912051e-01]],\n",
       " \n",
       "        [[ 1.01688679e+00,  1.35810814e+00,  1.26475826e+00, ...,\n",
       "          -2.93495231e-01,  5.62280020e-01, -1.77082685e+00],\n",
       "         [ 9.66181832e-01,  1.45751510e+00,  1.36751433e+00, ...,\n",
       "          -5.34276483e-01, -2.44353950e-01,  1.21786206e+00],\n",
       "         [ 9.52031613e-01,  1.41797824e+00,  1.32953926e+00, ...,\n",
       "          -6.05860098e-01, -1.37088795e-01,  1.60810267e+00],\n",
       "         ...,\n",
       "         [ 1.92963181e-02,  7.71139363e-02,  7.41280712e-02, ...,\n",
       "           7.74380488e-02,  3.47749709e-01,  9.85795894e-01],\n",
       "         [ 4.29358930e-04,  1.09873047e-01,  1.08752401e-01, ...,\n",
       "           4.41863727e-01,  9.91340642e-01,  8.13766748e-01],\n",
       "         [-2.19751551e-02,  2.27353997e-01,  2.27145271e-01, ...,\n",
       "           5.78523357e-01,  1.04282792e+00,  9.45386363e-01]]]),\n",
       " array([ 0.504112  ,  2.08558633, -2.41031925, -0.74977121, -2.37417127,\n",
       "        -1.83082187,  0.06242882, -0.57806828,  1.18075709,  0.8633326 ,\n",
       "         1.06666501, -0.10023711,  0.37307556, -0.84240042,  1.48575571,\n",
       "        -2.26007919,  0.53461187,  0.77748114,  0.34370532, -0.30582878,\n",
       "        -0.74073421, -1.4128608 , -1.58682298, -0.9474555 , -0.50916119,\n",
       "         0.71422216, -0.48430945,  0.35387194, -0.99715898,  0.14376178,\n",
       "        -0.4865687 , -0.2561253 , -1.21630614,  0.85090673,  1.36940438,\n",
       "        -1.36767582,  0.19685414, -1.65911895, -1.63200796, -0.43460597,\n",
       "        -0.20642182, -0.53966105, -1.36880545, -0.97456649,  0.77070339,\n",
       "         0.46457515, -2.60913317,  0.83509199, -0.74299346, -1.03330696,\n",
       "        -0.81528943,  0.36855706, -0.39619874,  0.25559461,  0.4442419 ,\n",
       "         0.71874066, -0.86386329, -0.80173394,  0.57188947, -0.52610556,\n",
       "        -0.36795812,  0.66451869, -0.36118038,  1.58742192, -1.12932505,\n",
       "         0.0477437 ,  1.40442274,  1.43831148, -0.62664214,  1.38070063,\n",
       "         0.98533205,  1.20109033,  0.17087277,  0.56172285, -0.4176616 ,\n",
       "        -0.07764462, -0.58484603,  1.22481245,  1.22594207,  0.56285248,\n",
       "        -2.71079937, -0.56903129, -0.35214338, -0.08555199, -1.15304716,\n",
       "         0.36403856,  0.4577974 , -1.14739904, -2.17987585,  0.59787084,\n",
       "        -0.51706856,  2.02797548,  0.35839044, -0.56451279,  0.66564831,\n",
       "        -0.84578929,  0.44650115,  0.37420518,  0.41487167, -1.20162102,\n",
       "         1.43492261, -0.26177342,  0.95596181,  1.29823804,  0.73342578,\n",
       "         1.0339059 ,  1.70829174, -1.64895233,  0.9921098 , -1.00619598,\n",
       "        -0.96552949,  0.31546471, -1.17902853,  1.3197009 ,  1.76251372,\n",
       "        -0.07538537,  0.26011311,  1.47332984,  0.87123997,  1.27225668,\n",
       "         1.46090397, -0.69780848,  0.41713092, -0.50803156,  0.7481109 ,\n",
       "        -0.52949443,  0.15166915,  0.52670449]))"
      ]
     },
     "execution_count": 13,
     "metadata": {},
     "output_type": "execute_result"
    }
   ],
   "source": [
    "test_1"
   ]
  },
  {
   "cell_type": "code",
   "execution_count": 14,
   "metadata": {},
   "outputs": [
    {
     "ename": "AttributeError",
     "evalue": "'tuple' object has no attribute 'shape'",
     "output_type": "error",
     "traceback": [
      "\u001b[1;31m---------------------------------------------------------------------------\u001b[0m",
      "\u001b[1;31mAttributeError\u001b[0m                            Traceback (most recent call last)",
      "\u001b[1;32m<ipython-input-14-abaaec987251>\u001b[0m in \u001b[0;36m<module>\u001b[1;34m()\u001b[0m\n\u001b[1;32m----> 1\u001b[1;33m \u001b[0mtest_1\u001b[0m\u001b[1;33m.\u001b[0m\u001b[0mshape\u001b[0m\u001b[1;33m\u001b[0m\u001b[0m\n\u001b[0m",
      "\u001b[1;31mAttributeError\u001b[0m: 'tuple' object has no attribute 'shape'"
     ]
    }
   ],
   "source": [
    "test_1.shape"
   ]
  },
  {
   "cell_type": "code",
   "execution_count": 15,
   "metadata": {},
   "outputs": [],
   "source": [
    "#全部40萬，0~20萬做training，20~30萬做validate，30~40多萬做testing\n",
    "train_gen = generator(float_data,\n",
    "                    lookback=lookback,\n",
    "                    delay=delay,\n",
    "                    min_index=0,\n",
    "                    max_index=200000,\n",
    "                    shuffle=True,\n",
    "                    step=step,\n",
    "                    batch_size=batch_size)\n",
    "val_gen = generator(float_data,\n",
    "                    lookback=lookback,\n",
    "                    delay=delay,\n",
    "                    min_index=200001,\n",
    "                    max_index=300000,\n",
    "                    step=step,\n",
    "                    batch_size=batch_size)\n",
    "test_gen = generator(float_data,\n",
    "                    lookback=lookback,\n",
    "                    delay=delay,\n",
    "                    min_index=300001,\n",
    "                    max_index=None,\n",
    "                    step=step,\n",
    "                    batch_size=batch_size)"
   ]
  },
  {
   "cell_type": "code",
   "execution_count": 16,
   "metadata": {},
   "outputs": [
    {
     "data": {
      "text/plain": [
       "['__class__',\n",
       " '__del__',\n",
       " '__delattr__',\n",
       " '__dir__',\n",
       " '__doc__',\n",
       " '__eq__',\n",
       " '__format__',\n",
       " '__ge__',\n",
       " '__getattribute__',\n",
       " '__gt__',\n",
       " '__hash__',\n",
       " '__init__',\n",
       " '__init_subclass__',\n",
       " '__iter__',\n",
       " '__le__',\n",
       " '__lt__',\n",
       " '__name__',\n",
       " '__ne__',\n",
       " '__new__',\n",
       " '__next__',\n",
       " '__qualname__',\n",
       " '__reduce__',\n",
       " '__reduce_ex__',\n",
       " '__repr__',\n",
       " '__setattr__',\n",
       " '__sizeof__',\n",
       " '__str__',\n",
       " '__subclasshook__',\n",
       " 'close',\n",
       " 'gi_code',\n",
       " 'gi_frame',\n",
       " 'gi_running',\n",
       " 'gi_yieldfrom',\n",
       " 'send',\n",
       " 'throw']"
      ]
     },
     "execution_count": 16,
     "metadata": {},
     "output_type": "execute_result"
    }
   ],
   "source": [
    "dir(test_gen)"
   ]
  },
  {
   "cell_type": "code",
   "execution_count": 17,
   "metadata": {},
   "outputs": [],
   "source": [
    "abc= next(test_gen)"
   ]
  },
  {
   "cell_type": "code",
   "execution_count": 18,
   "metadata": {},
   "outputs": [],
   "source": [
    "iou = next(test_gen)"
   ]
  },
  {
   "cell_type": "code",
   "execution_count": 19,
   "metadata": {},
   "outputs": [
    {
     "ename": "ValueError",
     "evalue": "could not broadcast input array from shape (128,240,14) into shape (128)",
     "output_type": "error",
     "traceback": [
      "\u001b[1;31m---------------------------------------------------------------------------\u001b[0m",
      "\u001b[1;31mValueError\u001b[0m                                Traceback (most recent call last)",
      "\u001b[1;32m<ipython-input-19-1840be47f638>\u001b[0m in \u001b[0;36m<module>\u001b[1;34m()\u001b[0m\n\u001b[1;32m----> 1\u001b[1;33m \u001b[0mabcd\u001b[0m \u001b[1;33m=\u001b[0m \u001b[0mnp\u001b[0m\u001b[1;33m.\u001b[0m\u001b[0masarray\u001b[0m\u001b[1;33m(\u001b[0m\u001b[0mabc\u001b[0m\u001b[1;33m)\u001b[0m\u001b[1;33m\u001b[0m\u001b[0m\n\u001b[0m",
      "\u001b[1;32mC:\\ProgramData\\Anaconda3\\lib\\site-packages\\numpy\\core\\numeric.py\u001b[0m in \u001b[0;36masarray\u001b[1;34m(a, dtype, order)\u001b[0m\n\u001b[0;32m    490\u001b[0m \u001b[1;33m\u001b[0m\u001b[0m\n\u001b[0;32m    491\u001b[0m     \"\"\"\n\u001b[1;32m--> 492\u001b[1;33m     \u001b[1;32mreturn\u001b[0m \u001b[0marray\u001b[0m\u001b[1;33m(\u001b[0m\u001b[0ma\u001b[0m\u001b[1;33m,\u001b[0m \u001b[0mdtype\u001b[0m\u001b[1;33m,\u001b[0m \u001b[0mcopy\u001b[0m\u001b[1;33m=\u001b[0m\u001b[1;32mFalse\u001b[0m\u001b[1;33m,\u001b[0m \u001b[0morder\u001b[0m\u001b[1;33m=\u001b[0m\u001b[0morder\u001b[0m\u001b[1;33m)\u001b[0m\u001b[1;33m\u001b[0m\u001b[0m\n\u001b[0m\u001b[0;32m    493\u001b[0m \u001b[1;33m\u001b[0m\u001b[0m\n\u001b[0;32m    494\u001b[0m \u001b[1;33m\u001b[0m\u001b[0m\n",
      "\u001b[1;31mValueError\u001b[0m: could not broadcast input array from shape (128,240,14) into shape (128)"
     ]
    }
   ],
   "source": [
    "abcd = np.asarray(abc)"
   ]
  },
  {
   "cell_type": "code",
   "execution_count": 20,
   "metadata": {},
   "outputs": [],
   "source": [
    "#How many steps to draw from val_gen in order to see the entire validation set\n",
    "val_steps = (300000 - 200001 - lookback)\n",
    "#How many steps to draw from test_gen in order to see the entire test set \n",
    "test_steps = (len(float_data) - 300001 - lookback)"
   ]
  },
  {
   "cell_type": "markdown",
   "metadata": {},
   "source": [
    "A common-sense, non-machine-learning baseline"
   ]
  },
  {
   "cell_type": "code",
   "execution_count": 21,
   "metadata": {},
   "outputs": [
    {
     "name": "stdout",
     "output_type": "stream",
     "text": [
      "0.28969941979609765\n"
     ]
    }
   ],
   "source": [
    "def evaluate_naive_method():\n",
    "    batch_maes = []\n",
    "    for step in range(val_steps):\n",
    "        samples, targets = next(val_gen)\n",
    "        preds = samples[:, -1, 1]\n",
    "        mae = np.mean(np.abs(preds - targets))\n",
    "        batch_maes.append(mae)\n",
    "    print(np.mean(batch_maes))\n",
    "evaluate_naive_method()"
   ]
  },
  {
   "cell_type": "code",
   "execution_count": 22,
   "metadata": {},
   "outputs": [
    {
     "name": "stderr",
     "output_type": "stream",
     "text": [
      "C:\\ProgramData\\Anaconda3\\lib\\site-packages\\h5py\\__init__.py:36: FutureWarning: Conversion of the second argument of issubdtype from `float` to `np.floating` is deprecated. In future, it will be treated as `np.float64 == np.dtype(float).type`.\n",
      "  from ._conv import register_converters as _register_converters\n",
      "Using TensorFlow backend.\n"
     ]
    },
    {
     "name": "stdout",
     "output_type": "stream",
     "text": [
      "Epoch 1/10\n",
      "500/500 [==============================] - 911s 2s/step - loss: 1.0050 - val_loss: 0.3410\n",
      "Epoch 2/10\n",
      "500/500 [==============================] - 917s 2s/step - loss: 0.3483 - val_loss: 0.3431\n",
      "Epoch 3/10\n",
      "500/500 [==============================] - 907s 2s/step - loss: 0.2810 - val_loss: 0.2954\n",
      "Epoch 4/10\n",
      "500/500 [==============================] - 914s 2s/step - loss: 0.2630 - val_loss: 0.3123\n",
      "Epoch 5/10\n",
      "500/500 [==============================] - 908s 2s/step - loss: 0.2501 - val_loss: 0.3155\n",
      "Epoch 6/10\n",
      "500/500 [==============================] - 916s 2s/step - loss: 0.2440 - val_loss: 0.3094\n",
      "Epoch 7/10\n",
      "500/500 [==============================] - 909s 2s/step - loss: 0.2364 - val_loss: 0.3255\n",
      "Epoch 8/10\n",
      "500/500 [==============================] - 915s 2s/step - loss: 0.2321 - val_loss: 0.3232\n",
      "Epoch 9/10\n",
      "500/500 [==============================] - 920s 2s/step - loss: 0.2274 - val_loss: 0.3339\n",
      "Epoch 10/10\n",
      "500/500 [==============================] - 911s 2s/step - loss: 0.2237 - val_loss: 0.3233\n"
     ]
    }
   ],
   "source": [
    "from keras.models import Sequential\n",
    "from keras import layers\n",
    "from keras.optimizers import RMSprop\n",
    "model = Sequential()\n",
    "model.add(layers.Flatten(input_shape=(lookback // step, float_data.shape[-1])))\n",
    "model.add(layers.Dense(32, activation='relu'))\n",
    "model.add(layers.Dense(1))\n",
    "model.compile(optimizer=RMSprop(), loss='mae',metrics=['mae'])\n",
    "#沒有下metrics，所以後來testing完叫不出MAE\n",
    "# You do so using the fit_generator method, \n",
    "#the equivalent of fit for data generators like this one. It expects as its first\n",
    "#argument a Python generator\n",
    "history = model.fit_generator(train_gen,\n",
    "                              steps_per_epoch=500,\n",
    "                              epochs=10,\n",
    "validation_data=val_gen,\n",
    "validation_steps=val_steps)"
   ]
  },
  {
   "cell_type": "markdown",
   "metadata": {},
   "source": [
    "Listing 6.37 Training and evaluating a densely connected model"
   ]
  },
  {
   "cell_type": "markdown",
   "metadata": {},
   "source": [
    "Listing 6.38 Plotting results"
   ]
  },
  {
   "cell_type": "code",
   "execution_count": 23,
   "metadata": {},
   "outputs": [
    {
     "data": {
      "text/plain": [
       "{'loss': [1.0049655367136001,\n",
       "  0.3482664279341698,\n",
       "  0.2810264687240124,\n",
       "  0.263002507597208,\n",
       "  0.2501384421288967,\n",
       "  0.24400233647227287,\n",
       "  0.23635538518428803,\n",
       "  0.2321345220208168,\n",
       "  0.22744589719176292,\n",
       "  0.22372528111934661],\n",
       " 'val_loss': [0.34098632405313173,\n",
       "  0.3431304930648212,\n",
       "  0.2954375526995629,\n",
       "  0.312288147872313,\n",
       "  0.3155093983011231,\n",
       "  0.30942791960550264,\n",
       "  0.32551589782106605,\n",
       "  0.3231907552904091,\n",
       "  0.3338668007926693,\n",
       "  0.3232724011252946]}"
      ]
     },
     "execution_count": 23,
     "metadata": {},
     "output_type": "execute_result"
    }
   ],
   "source": [
    "history.history"
   ]
  },
  {
   "cell_type": "code",
   "execution_count": 24,
   "metadata": {},
   "outputs": [
    {
     "ename": "KeyError",
     "evalue": "'val_mean_absolute_error'",
     "output_type": "error",
     "traceback": [
      "\u001b[1;31m---------------------------------------------------------------------------\u001b[0m",
      "\u001b[1;31mKeyError\u001b[0m                                  Traceback (most recent call last)",
      "\u001b[1;32m<ipython-input-24-84190e09cb06>\u001b[0m in \u001b[0;36m<module>\u001b[1;34m()\u001b[0m\n\u001b[1;32m----> 1\u001b[1;33m \u001b[0mmae_history\u001b[0m \u001b[1;33m=\u001b[0m \u001b[0mhistory\u001b[0m\u001b[1;33m.\u001b[0m\u001b[0mhistory\u001b[0m\u001b[1;33m[\u001b[0m\u001b[1;34m'val_mean_absolute_error'\u001b[0m\u001b[1;33m]\u001b[0m\u001b[1;33m\u001b[0m\u001b[0m\n\u001b[0m",
      "\u001b[1;31mKeyError\u001b[0m: 'val_mean_absolute_error'"
     ]
    }
   ],
   "source": [
    "mae_history = history.history['val_mean_absolute_error']"
   ]
  },
  {
   "cell_type": "code",
   "execution_count": 25,
   "metadata": {},
   "outputs": [
    {
     "data": {
      "image/png": "[encoded data removed]",
      "text/plain": [
       "<matplotlib.figure.Figure at 0x2e6ce0fb710>"
      ]
     },
     "metadata": {},
     "output_type": "display_data"
    }
   ],
   "source": [
    "import matplotlib.pyplot as plt\n",
    "loss = history.history['loss']\n",
    "val_loss = history.history['val_loss']\n",
    "epochs = range(1, len(loss) + 1)\n",
    "plt.figure()\n",
    "plt.plot(epochs, loss, 'bo', label='Training loss')\n",
    "plt.plot(epochs, val_loss, 'b', label='Validation loss')\n",
    "plt.xlabel('Epochs')\n",
    "plt.ylabel('loss')\n",
    "plt.title('Training and validation loss')\n",
    "plt.legend()\n",
    "plt.show()"
   ]
  },
  {
   "cell_type": "code",
   "execution_count": null,
   "metadata": {},
   "outputs": [],
   "source": []
  },
  {
   "cell_type": "code",
   "execution_count": null,
   "metadata": {},
   "outputs": [],
   "source": []
  }
 ],
 "metadata": {
  "kernelspec": {
   "display_name": "Python 3",
   "language": "python",
   "name": "python3"
  },
  "language_info": {
   "codemirror_mode": {
    "name": "ipython",
    "version": 3
   },
   "file_extension": ".py",
   "mimetype": "text/x-python",
   "name": "python",
   "nbconvert_exporter": "python",
   "pygments_lexer": "ipython3",
   "version": "3.6.4"
  }
 },
 "nbformat": 4,
 "nbformat_minor": 2
}
